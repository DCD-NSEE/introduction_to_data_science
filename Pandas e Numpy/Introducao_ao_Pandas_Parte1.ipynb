{
  "cells": [
    {
      "cell_type": "markdown",
      "metadata": {
        "id": "_t-b8HQXI7UU"
      },
      "source": [
        "# <center> Introdução ao Pandas - Parte 1 </center>\n",
        "___\n",
        "\n",
        "<p align=\"center\">\n",
        "  <img src=\"https://nsee.maua.br/wp-content/uploads/2023/05/logo_nsee_white.svg\",width=200, height=120/>\n",
        "</p>\n",
        "\n",
        "___\n",
        "\n",
        "## Neste Notebook\n",
        "1. [Numpy](#numpy)\n",
        "    1. [O que é o Numpy](#oqeh)\n",
        "    2. [Importando o numPy](#import)\n",
        "    3. [Selecionando subconjuntos de NumPy Arrays](#subconjuntos)\n",
        "    4. [Exercício 1.1](#ex1)\n",
        "    5. [Array N-dimensional](#ndim)\n",
        "    6. [Selecionando subconjuntos de array bi-dimensional](#subndim)\n",
        "    7. [Exercício 1.2](#ex2)\n",
        "    8. [Estatística básica com NumPy](#estat)\n",
        "    9. [Exercício 1.3](#ex3)\n",
        "2. [Correção](#correcao)\n",
        "\n",
        "___"
      ]
    },
    {
      "cell_type": "markdown",
      "metadata": {
        "id": "bLsdLAgZ2yW5"
      },
      "source": [
        "# <center> Objetivos de aprendizado </center>\n",
        "- Familiarizar-se com as funcionalidades básicas do NumPy\n",
        "- Entendendo a importância do NumPy para o Pandas\n",
        "\n",
        "Bons estudos!\n",
        "___\n"
      ]
    },
    {
      "cell_type": "code",
      "execution_count": 1,
      "metadata": {
        "id": "ZMac9DE8GfXw",
        "outputId": "4a0851cf-f30a-4374-fdee-ace57d51a191"
      },
      "outputs": [
        {
          "data": {
            "image/jpeg": "[encoded data removed]",
            "text/html": [
              "\n",
              "        <iframe\n",
              "            width=\"800\"\n",
              "            height=\"450\"\n",
              "            src=\"https://www.youtube.com/embed/l_Tzjxfa_5g\"\n",
              "            frameborder=\"0\"\n",
              "            allowfullscreen\n",
              "            \n",
              "        ></iframe>\n",
              "        "
            ],
            "text/plain": [
              "<IPython.lib.display.YouTubeVideo at 0x18f4eaec940>"
            ]
          },
          "execution_count": 1,
          "metadata": {},
          "output_type": "execute_result"
        }
      ],
      "source": [
        "from IPython.display import YouTubeVideo\n",
        "\n",
        "YouTubeVideo('l_Tzjxfa_5g', width=800, height=450)"
      ]
    },
    {
      "cell_type": "markdown",
      "metadata": {
        "id": "xDZkVGOjI7Uc"
      },
      "source": [
        "<a name=\"numpy\"></a>\n",
        "# 1. NumPy"
      ]
    },
    {
      "cell_type": "markdown",
      "metadata": {
        "id": "FYsV7fiyI7Uc"
      },
      "source": [
        "<a name=\"oqeh\"></a>\n",
        "## 1.1 O que é o NumPy?\n",
        "\n",
        "[NumPy](#https://numpy.org/doc/stable/user/index.html#user) é a abreviação de *Numerical Python* ou *Numeric Python*. Ela é uma biblioteca *open-source* (ou seja, é um software cujo código original é disponibilizado livremente e pode ser distribuído e modificado) que oferece suporte a arrays e matrizes multidimensionais, provendo diversas funções matemáticas úteis para nós na área de machine learning.\n",
        "\n",
        "As listas do Python funcionam como as arrays, no entanto, são lentas para utilização com grandes volumes de dados. No ramo de Ciência de Dados, existe uma grande área dedicada às estruturas de dados, e como fazer elas serem mais eficiêntes possíveis. Dessa forma, o NumPy nos possibilita utilizar os objetos arrays, que são bem mais rápidos que as listas tradicionais do Python.\n",
        "\n",
        "O **ndarray** é o objeto fundamental do NumPy. Este objeto é uma matriz N-dimensional, vamos entender melhor como este objeto funciona nas células abaixo."
      ]
    },
    {
      "cell_type": "markdown",
      "metadata": {
        "id": "OWBF8V3fI7Ud"
      },
      "source": [
        "<a name=\"import\"></a>\n",
        "## 1.2. Importando o NumPy"
      ]
    },
    {
      "cell_type": "markdown",
      "metadata": {
        "id": "cmh4gzdFJqp6"
      },
      "source": [
        "Na aula anterior você já aprendeu a importar o NumPy, vamos importá-lo com o apelido ```np```."
      ]
    },
    {
      "cell_type": "code",
      "execution_count": null,
      "metadata": {
        "id": "s2sCbGy_I7Ue",
        "scrolled": false
      },
      "outputs": [],
      "source": [
        "import numpy as np"
      ]
    },
    {
      "cell_type": "markdown",
      "metadata": {
        "id": "FqF1WpJ7I7Uq"
      },
      "source": [
        "Vamos agora observar o porquê o NumPy é tão poderoso e preferível às listas do Python.\n",
        "\n",
        "Imagine que você tenha duas listas de dados de indivíduos, com alturas e pesos, e queira calcular o IMC [(Índice de Massa Corporal)](https://pt.wikipedia.org/wiki/Índice_de_massa_corporal) de cada um deles, como mostrado abaixo:"
      ]
    },
    {
      "cell_type": "code",
      "execution_count": null,
      "metadata": {
        "id": "4BxlI-C-I7Ut",
        "outputId": "4fbf7b34-9b05-4df5-f8d3-7a5610668a44"
      },
      "outputs": [],
      "source": [
        "alturas = [1.81, 1.77, 1.69, 1.91]\n",
        "pesos = [89.0, 77.3, 55.9, 99.4]\n",
        "\n",
        "# Calculando o IMC\n",
        "imc = pesos / alturas ** 2"
      ]
    },
    {
      "cell_type": "markdown",
      "metadata": {
        "id": "qCtEhF62I7Uv"
      },
      "source": [
        "Observe que o Python nos retornou um erro porque não é possivel realizar cálculos com listas, para isso vamos utilizar os arrays do NumPy!"
      ]
    },
    {
      "cell_type": "markdown",
      "metadata": {
        "id": "g6A5kAL02yW9"
      },
      "source": [
        "Para realizarmos esse cálculo, seria preciso iterar sobre as listas"
      ]
    },
    {
      "cell_type": "code",
      "execution_count": null,
      "metadata": {
        "id": "_yGwEgBy2yW9",
        "outputId": "4051246c-c249-479f-e6ef-4e506eb64b1a"
      },
      "outputs": [],
      "source": [
        "imc = list()\n",
        "for altura, peso in zip(alturas, pesos):\n",
        "    imc.append(peso / altura ** 2)\n",
        "imc"
      ]
    },
    {
      "cell_type": "markdown",
      "metadata": {
        "id": "tuRVROS32yW9"
      },
      "source": [
        "Podemos fazer isso com Numpy da seguinte maneira"
      ]
    },
    {
      "cell_type": "code",
      "execution_count": null,
      "metadata": {
        "id": "KNMFG6iEI7Uw",
        "outputId": "195c48a2-6a26-4fca-ed16-125f14876afd"
      },
      "outputs": [],
      "source": [
        "# Criando os arrays com o NumPy\n",
        "\n",
        "np_altura = np.array(alturas)\n",
        "np_peso = np.array(pesos)\n",
        "\n",
        "# Calculando o IMC\n",
        "imc = np_peso / np_altura ** 2\n",
        "imc"
      ]
    },
    {
      "cell_type": "markdown",
      "metadata": {
        "id": "pzydKVdV2yW9"
      },
      "source": [
        "Agora imagine um cenário em que você tenha 1000000 indivíduos, e queira calcular o IMC de cada um deles. Para isso, você teria que iterar sobre as listas, o que seria muito lento e ineficiente."
      ]
    },
    {
      "cell_type": "code",
      "execution_count": null,
      "metadata": {
        "id": "dfjbyNnS2yW9",
        "outputId": "d14a5cf9-7c08-4e48-e3fb-99ab75b6cb66"
      },
      "outputs": [],
      "source": [
        "from random import uniform\n",
        "from time import time\n",
        "\n",
        "altura_usando_lista = [round(uniform(1.5,1.99), 2) for i in range(1000000)]\n",
        "peso_usando_lista = [round(uniform(50,120), 2) for i in range(1000000)]\n",
        "altura_usando_numpy = np.array(altura_usando_lista)\n",
        "peso_usando_numpy = np.array(peso_usando_lista)\n",
        "\n",
        "# Medindo o tempo usando listas do python\n",
        "t0_lista = time()\n",
        "imc_lista = [peso / altura ** 2 for altura, peso in zip(altura_usando_lista, peso_usando_lista)]\n",
        "tf_lista = time()\n",
        "\n",
        "# Medindo o tempo usando arrays do numpy\n",
        "t0_numpy = time()\n",
        "imc_numpy = peso_usando_numpy / altura_usando_numpy ** 2\n",
        "tf_numpy = time()\n",
        "\n",
        "print(f'Tempo usando lista: {(tf_lista - t0_lista)*1000} milisegundos')\n",
        "print(f'Tempo usando numpy: {(tf_numpy - t0_numpy)*1000} milisegundos')\n"
      ]
    },
    {
      "cell_type": "markdown",
      "metadata": {
        "id": "1bIpha-c2yW-"
      },
      "source": [
        "Não só fazer operações matemáticas, mas se usarmos o método ```sort```, que ordena o vetor, podemos ver que o NumPy é muito mais rápido que o Python."
      ]
    },
    {
      "cell_type": "code",
      "execution_count": null,
      "metadata": {
        "id": "a49c9Ez-2yW-",
        "outputId": "cf672066-44c2-493a-c3e5-284094a3c83e"
      },
      "outputs": [],
      "source": [
        "# Medindo o tempo usando listas do python\n",
        "t0_lista = time()\n",
        "imc_lista.sort()\n",
        "tf_lista = time()\n",
        "\n",
        "# Medindo o tempo usando arrays do numpy\n",
        "t0_numpy = time()\n",
        "imc_numpy.sort()\n",
        "tf_numpy = time()\n",
        "\n",
        "print(f'Tempo usando lista: {(tf_lista - t0_lista)*1000} milisegundos')\n",
        "print(f'Tempo usando numpy: {(tf_numpy - t0_numpy)*1000} milisegundos')"
      ]
    },
    {
      "cell_type": "markdown",
      "metadata": {
        "id": "z4qNMa6g2yW-"
      },
      "source": [
        "É possível ver o quão mais rápido é manipular arrays do que listas com o NumPy. Além disso, o código fica mais limpo e legível."
      ]
    },
    {
      "cell_type": "markdown",
      "metadata": {
        "id": "w0SOdKBbI7Uy"
      },
      "source": [
        "Além disso o Numpy consegue realizar perfeitamente as operações elemento a elemento!\n",
        "\n",
        "Mas fique atento! O NumPy só consegue fazer isto, pois ele assume que cada array possui elementos de um único tipo de dado. Se você tentar criar um array com tipos de dados diferentes, o NumPy irá converter todos os elementos para um único tipo. Observe abaixo:\n"
      ]
    },
    {
      "cell_type": "code",
      "execution_count": null,
      "metadata": {
        "id": "6EnSIBeviRhW",
        "outputId": "decca1b0-9a36-489c-daf5-af417a5c2836"
      },
      "outputs": [],
      "source": [
        "np.array([1.0, 4, True, \"NumPy\"])"
      ]
    },
    {
      "cell_type": "markdown",
      "metadata": {
        "id": "MhnufEJkJqp-"
      },
      "source": [
        "\n",
        "Além disso, algumas operações podem funcionar de forma diferente do que você imagina. Veja o exemplo abaixo:"
      ]
    },
    {
      "cell_type": "code",
      "execution_count": null,
      "metadata": {
        "id": "tML_YhdJI7Uz",
        "outputId": "7de5e4c9-b6e1-4067-a4a4-a173dc246e6b"
      },
      "outputs": [],
      "source": [
        "# Lista do Python\n",
        "alturas * 2"
      ]
    },
    {
      "cell_type": "markdown",
      "metadata": {
        "id": "NIcRDqX_2yW-"
      },
      "source": [
        "Quando multiplicamos uma lista por ```n```, o Python irá concatenar a lista ```n``` vezes, como ele faria com uma string."
      ]
    },
    {
      "cell_type": "code",
      "execution_count": null,
      "metadata": {
        "id": "YDEKa-xFI7U1",
        "outputId": "9a92ca8c-6201-4390-d301-e430871c10d0"
      },
      "outputs": [],
      "source": [
        "# NumPy array\n",
        "np_altura * 2"
      ]
    },
    {
      "cell_type": "markdown",
      "metadata": {
        "id": "Zyrf-d0Z2yW_"
      },
      "source": [
        "Porém quando fazemos a mesma operação com um array do Numpy, ele faz o que esperamos, e multiplica todos os valores dentro do array por ```n```."
      ]
    },
    {
      "cell_type": "markdown",
      "metadata": {
        "id": "pcH2OAfDI7U3"
      },
      "source": [
        "<a name=\"subconjuntos\"></a>\n",
        "## 1.3. Selecionando subconjuntos de NumPy Arrays\n",
        "A seleção de subconjuntos de NumPy arrays funciona de forma similar à listas de Python."
      ]
    },
    {
      "cell_type": "code",
      "execution_count": null,
      "metadata": {
        "id": "rwniB6TNI7U3",
        "outputId": "d4c8e264-ed7a-48c3-8474-4d8a9613c596"
      },
      "outputs": [],
      "source": [
        "# retornando o terceiro elemento da array\n",
        "imc[2]"
      ]
    },
    {
      "cell_type": "markdown",
      "metadata": {
        "id": "uj--wzxrI7U5"
      },
      "source": [
        "Você também pode selecionar subconjuntos baseados em condições, de forma que apenas os valores que satisfazem as condições serão retornados."
      ]
    },
    {
      "cell_type": "code",
      "execution_count": null,
      "metadata": {
        "id": "RwCbDMxwI7U6",
        "outputId": "dca0f940-7def-4782-bdba-4ef24c146fb9"
      },
      "outputs": [],
      "source": [
        "imc[imc > 25]"
      ]
    },
    {
      "cell_type": "markdown",
      "metadata": {
        "id": "UxtVUoQ-JqqC"
      },
      "source": [
        "Podemos combinar a seleção de um subconjunto com a utilização de uma função, observe:"
      ]
    },
    {
      "cell_type": "code",
      "execution_count": null,
      "metadata": {
        "id": "Gx5DzL4LJqqC",
        "outputId": "ed29c9ce-510c-40c4-9be2-40acc6afff6b"
      },
      "outputs": [],
      "source": [
        "# soma do IMC do primeiro e segundo elementos\n",
        "np.sum(imc[0:2])"
      ]
    },
    {
      "cell_type": "markdown",
      "metadata": {
        "id": "2zxPjcqzI7U8"
      },
      "source": [
        "Agora vamos fazer um exercício para fixação."
      ]
    },
    {
      "cell_type": "markdown",
      "metadata": {
        "id": "DFgrAn-4I7U9"
      },
      "source": [
        "<a name=\"ex1\"></a>\n",
        "## Exercício 1.1"
      ]
    },
    {
      "cell_type": "code",
      "execution_count": null,
      "metadata": {
        "exid": "2.1.1",
        "id": "xCqSvuZKI7U9",
        "outputId": "fbdc55b1-e5ab-496e-a3fb-d02f5f0ab0ba"
      },
      "outputs": [],
      "source": [
        "#Exercício 1.1.1\n",
        "# lista de pesos de castanhas\n",
        "c_peso = [0.946, 0.918, 0.906, 0.904, 0.858, 0.774, 0.652, 0.516, 0.478, 0.404, 0.396, 0.364, 0.342, 0.304,\n",
        "            0.262, 0.208, 0.134, 0.974, 0.792, 0.792, 0.628, 0.552, 0.506, 0.478, 0.462, 0.436, 0.408, 0.378,\n",
        "            0.3, 0.298, 0.268, 0.252, 0.16, 0.114, 0.092, 0.936, 0.894, 0.744, 0.706, 0.694, 0.69, 0.652, 0.518,\n",
        "            0.508, 0.502, 0.5, 0.47, 0.44, 0.39, 0.384]\n",
        "\n",
        "# Crie um numpy array (np_c_peso) a partir de c_peso\n",
        "np_c_peso = ____\n",
        "\n",
        "# Printe o tipo de np_c_peso"
      ]
    },
    {
      "cell_type": "code",
      "execution_count": null,
      "metadata": {
        "exid": "2.1.2",
        "id": "2Q3pveLOI7U_",
        "scrolled": false
      },
      "outputs": [],
      "source": [
        "#Exercício 1.1.2\n",
        "c_kg_preco = 45.00\n",
        "\n",
        "# Crie um numpy array (np_c_despesa) a partir de np_c_peso com a quantia gasta em cada compra\n",
        "np_c_despesa = ____"
      ]
    },
    {
      "cell_type": "code",
      "execution_count": null,
      "metadata": {
        "exid": "2.1.3",
        "id": "Xe-lvBwBI7VB",
        "scrolled": true
      },
      "outputs": [],
      "source": [
        "#Exercício 1.1.3\n",
        "# Crie a variável compras_acima_30 que corresponde ao valor total gasto nas compras que custaram mais de R$ 30. Printe o resultado\n",
        "compras_acima_30 = ____"
      ]
    },
    {
      "cell_type": "code",
      "execution_count": null,
      "metadata": {
        "exid": "2.1.4",
        "id": "wDn9adM4JqqF"
      },
      "outputs": [],
      "source": [
        "# Exercício 1.1.4\n",
        "# Salve na variável resposta_1_1 a soma de todas as compras abaixo de R$ 40 e acima de R$ 30\n",
        "resposta_1_1 = ____"
      ]
    },
    {
      "cell_type": "markdown",
      "metadata": {
        "id": "C-4-5HH1I7VD"
      },
      "source": [
        "<a name=\"ndim\"></a>\n",
        "## 1.4.  Array N-dimensional\n",
        "Vamos verificar o tipo dos arrays criados acima!"
      ]
    },
    {
      "cell_type": "code",
      "execution_count": null,
      "metadata": {
        "id": "LCgv4mtYI7VD",
        "outputId": "1ca11ecd-d1e9-4f70-fa67-c7b426025403"
      },
      "outputs": [],
      "source": [
        "print(type(np_c_peso))"
      ]
    },
    {
      "cell_type": "markdown",
      "metadata": {
        "id": "ACK51kB7I7VG"
      },
      "source": [
        "**ndarrays** significam arrays N-dimensionais, vamos criar um NumPy array de duas dimensões a partir de listas tradicionais do Python."
      ]
    },
    {
      "cell_type": "code",
      "execution_count": null,
      "metadata": {
        "id": "xPyc-WqnI7VG",
        "outputId": "f718d4a8-9cc4-459f-edb5-5c0e6a5a5d20"
      },
      "outputs": [],
      "source": [
        "np_2d = np.array([[1.81, 1.77, 1.69, 1.91],\n",
        "                  [89.0, 77.3, 55.9, 99.4]])\n",
        "np_2d"
      ]
    },
    {
      "cell_type": "markdown",
      "metadata": {
        "id": "pdWHekG8I7VI"
      },
      "source": [
        "Cada sublista da lista corresponde à uma linha da array bi-dimensional criada.\n",
        "Podemos pensar em um array bi-dimensional como uma matriz.\n",
        "<br>\n",
        "Nós podemos verificar o tamanho do array usando o atributo ```shape```."
      ]
    },
    {
      "cell_type": "code",
      "execution_count": null,
      "metadata": {
        "id": "NDV2yCBVI7VI",
        "outputId": "048985f7-6966-4645-d948-70b532ac6a54"
      },
      "outputs": [],
      "source": [
        "np_2d.shape"
      ]
    },
    {
      "cell_type": "markdown",
      "metadata": {
        "id": "wlRoKTY7I7VK"
      },
      "source": [
        "Podemos ver que o np_2d tem 2 linhas e 4 colunas."
      ]
    },
    {
      "cell_type": "markdown",
      "metadata": {},
      "source": [
        "### 1.4.1. Produto escalar / Multiplicação matricial"
      ]
    },
    {
      "cell_type": "markdown",
      "metadata": {},
      "source": [
        "Apredemos em Geometria Analítica que o produto escalar entre dois vetores é dado pela soma dos produtos dos elementos correspondentes de cada vetor. O mesmo é válido para vetores bi-dimensionais(matrizes), porém, neste caso, o produto escalar é chamado de multiplicação matricial."
      ]
    },
    {
      "cell_type": "markdown",
      "metadata": {},
      "source": [
        "Ele é dado facilmente pelo NumPy utilizando o método ```.dot()```."
      ]
    },
    {
      "cell_type": "code",
      "execution_count": null,
      "metadata": {},
      "outputs": [],
      "source": [
        "matriz_A = np.array([[1, 2],\n",
        "                    [3, 4]])\n",
        "\n",
        "matriz_B = np.array([[5, 6],\n",
        "                    [7, 8]])\n",
        "\n",
        "np.dot(matriz_A, matriz_B)"
      ]
    },
    {
      "cell_type": "markdown",
      "metadata": {
        "id": "7FwtOqG0I7VK"
      },
      "source": [
        "<a name=\"subndim\"></a>\n",
        "## 1.5. Selecionando subconjuntos de array bi-dimensional\n",
        "\n",
        "Assim como o array unidimensional, também podemos selecionar um subconjunto de um array bi-dimensional, usando o índice da linha e coluna como exemplifica a imagem abaixo.\n",
        "\n",
        "![Subsetting](https://imgur.com/08EIOjy.png)\n",
        "\n",
        "Veja alguns exemplos de como isso é feito."
      ]
    },
    {
      "cell_type": "code",
      "execution_count": null,
      "metadata": {
        "id": "wuhs2K0II7VL",
        "outputId": "03ff2cb1-381e-4c20-ea74-8aea72911830"
      },
      "outputs": [],
      "source": [
        "# Selecionando a primeira linha (todos os pesos) inteira\n",
        "np_2d[0]"
      ]
    },
    {
      "cell_type": "code",
      "execution_count": null,
      "metadata": {
        "id": "1fkgS15P2yXJ",
        "outputId": "0dc041f5-4c6c-497d-f915-2348733d4632"
      },
      "outputs": [],
      "source": [
        "# Seleciona o peso da segunda entrada\n",
        "np_2d[1][1]"
      ]
    },
    {
      "cell_type": "code",
      "execution_count": null,
      "metadata": {
        "id": "edsO5-W22yXJ",
        "outputId": "70961d31-03db-4d4c-f7b1-4ef0feda661e"
      },
      "outputs": [],
      "source": [
        "# Seleciona o peso da segunda entrada\n",
        "np_2d[1][np_2d[1]>80]"
      ]
    },
    {
      "cell_type": "markdown",
      "metadata": {
        "id": "nNYPyUANI7VO"
      },
      "source": [
        "Basicamente nós selecionamos a linha, e a partir daquela linha fazemos outra seleção.\n",
        "\n",
        "Também é possível selecionar utilizando vírgulas dentro de colchetes: ```array[linha, coluna]```"
      ]
    },
    {
      "cell_type": "code",
      "execution_count": null,
      "metadata": {
        "id": "JalM9A2EI7VP",
        "outputId": "d367c999-a396-4e8e-be0f-ad1df872c39d"
      },
      "outputs": [],
      "source": [
        "# Primeira linha e terceira colna\n",
        "np_2d[0, 2]"
      ]
    },
    {
      "cell_type": "code",
      "execution_count": null,
      "metadata": {
        "id": "ksqMjmYEI7VR",
        "outputId": "181a54d6-4760-4cc8-b774-2182784ec887"
      },
      "outputs": [],
      "source": [
        "# Todas as linhas e segunda e terceira coluna\n",
        "np_2d[:, 1:3]"
      ]
    },
    {
      "cell_type": "markdown",
      "metadata": {
        "id": "WcAa54mqI7VT"
      },
      "source": [
        "<a name=\"ex2\"></a>\n",
        "\n",
        "## Exercício 1.2\n",
        "\n",
        "Abaixo temos uma lista de listas contendo informações de vendas de castanhas de uma loja. Cada lista representa uma venda que foi realizada. O primeiro elemento de cada lista é o dia que  venda foi feita, o segundo elemento representa o peso das castanhas compradas. Por fim, o terceiro elemento é a quantia paga pelas castanhas.\n",
        "\n",
        "Com isso em mente, faça os seguintes exercícios:"
      ]
    },
    {
      "cell_type": "code",
      "execution_count": null,
      "metadata": {
        "exid": "2.2.1",
        "id": "UjZhdLusI7VU"
      },
      "outputs": [],
      "source": [
        "castanha = [[2, 0.946, 66.1],\n",
        "          [2, 0.918, 32.96],\n",
        "          [2, 0.906, 58.76],\n",
        "          [2, 0.904, 29.14],\n",
        "          [2, 0.858, 59.96],\n",
        "          [2, 0.774, 27.77],\n",
        "          [2, 0.652, 42.3],\n",
        "          [2, 0.516, 18.51],\n",
        "          [2, 0.478, 17.15],\n",
        "          [2, 0.404, 28.22],\n",
        "          [2, 0.396, 7.88],\n",
        "          [2, 0.364, 7.24],\n",
        "          [2, 0.342, 22.18],\n",
        "          [2, 0.304, 10.91],\n",
        "          [2, 0.262, 9.41],\n",
        "          [2, 0.208, 4.13],\n",
        "          [2, 0.134, 9.36],\n",
        "          [4, 0.974, 34.95],\n",
        "          [4, 0.792, 51.38],\n",
        "          [4, 0.792, 51.38],\n",
        "          [4, 0.628, 12.48],\n",
        "          [4, 0.552, 19.81],\n",
        "          [4, 0.506, 25],\n",
        "          [4, 0.478, 31],\n",
        "          [4, 0.462, 32.24],\n",
        "          [4, 0.436, 28.28],\n",
        "          [4, 0.408, 14.64],\n",
        "          [4, 0.378, 13.56],\n",
        "          [4, 0.3, 19.46],\n",
        "          [4, 0.298, 10.69],\n",
        "          [4, 0.268, 9.62],\n",
        "          [4, 0.252, 16.34],\n",
        "          [4, 0.16, 3.18],\n",
        "          [4, 0.114, 4.09],\n",
        "          [4, 0.092, 5.97],\n",
        "          [5, 0.936, 65.33],\n",
        "          [5, 0.894, 32.07],\n",
        "          [5, 0.744, 48.28],\n",
        "          [5, 0.706, 25.34],\n",
        "          [5, 0.694, 24.91],\n",
        "          [5, 0.69, 13.72],\n",
        "          [5, 0.652, 42.32],\n",
        "          [5, 0.518, 33.6],\n",
        "          [5, 0.508, 18.23],\n",
        "          [5, 0.502, 35.09],\n",
        "          [5, 0.5, 27.45],\n",
        "          [5, 0.47, 9.35],\n",
        "          [5, 0.44, 28.54],\n",
        "          [5, 0.39, 7.76],\n",
        "          [5, 0.384, 21.08]]\n",
        "\n",
        "# Crie um numpy array 2d (np_castanha) a partir de castanha\n",
        "np_castanha = ____\n",
        "\n",
        "# Printe o tipo de np_castanha\n",
        "\n",
        "# Printe as dimensões (número de linhas e colunas)\n"
      ]
    },
    {
      "cell_type": "code",
      "execution_count": null,
      "metadata": {
        "exid": "2.2.2",
        "id": "SWkISBQDI7VX",
        "scrolled": false
      },
      "outputs": [],
      "source": [
        "# Crie um numpy array (np_quinto_dia) que corresponde a todas as entradas do quinto dia\n",
        "np_quinto_dia = ____"
      ]
    },
    {
      "cell_type": "code",
      "execution_count": null,
      "metadata": {
        "id": "PFzZj3zNJqqK"
      },
      "outputs": [],
      "source": [
        "# Atribua à variável resposta_1_2_3 o total vendido pela loja em R$ no quinto dia\n",
        "resposta_1_2 = ____"
      ]
    },
    {
      "cell_type": "markdown",
      "metadata": {
        "id": "YIEqkTlVI7VZ"
      },
      "source": [
        "<a name=\"estat\"></a>\n",
        "## 1.6. Estatística básica com NumPy\n",
        "Costumeiramente o primeiro passo para analisar nossos dados é conhecê-los através de estatística descritiva. O NumPy pode ser usado para obter essa visão inicial dos dados mesmo com grande quantidade de observações.\n",
        "\n",
        "Vamos então usar alguns atributos do NumPy para começar a analisar nossos dados."
      ]
    },
    {
      "cell_type": "code",
      "execution_count": null,
      "metadata": {
        "id": "sTkUT6xzI7VZ",
        "outputId": "b4f2e058-a1b3-47b7-952c-76ec213b99df"
      },
      "outputs": [],
      "source": [
        "np_a_p = np.array([[1.81, 89.0],\n",
        "                  [1.77, 77.3],\n",
        "                  [1.69, 55.9],\n",
        "                  [1.91, 99.4]])\n",
        "\n",
        "# Calculando a média dos pesos\n",
        "np.mean(np_a_p[:, 1])"
      ]
    },
    {
      "cell_type": "code",
      "execution_count": null,
      "metadata": {
        "id": "GFAOifpqI7Vc",
        "outputId": "6a758b3b-0993-4f65-bd02-346fd3ef8fa5"
      },
      "outputs": [],
      "source": [
        "# calculando a mediana dos pesos\n",
        "np.median(np_a_p[:, 1])"
      ]
    },
    {
      "cell_type": "code",
      "execution_count": null,
      "metadata": {
        "id": "KQ4tB4Qi2yXK",
        "outputId": "3708ac89-74e7-4971-e67f-3cad005dae55"
      },
      "outputs": [],
      "source": [
        "# Calcula a média das alturas e dos pesos\n",
        "np.mean(np_a_p, axis=0)"
      ]
    },
    {
      "cell_type": "markdown",
      "metadata": {
        "id": "HAgqZEnT2yXK"
      },
      "source": [
        "O parâmetro ```axis``` diz ao NumPy qual eixo analizar. Sendo <i>0</i> horizontal, e <i>1</i> vertical. O NumPy retornará um array de tamanho igual ao tamanho do eixo escolhido do array original."
      ]
    },
    {
      "cell_type": "code",
      "execution_count": null,
      "metadata": {
        "id": "Y3z2MNdDI7Vd",
        "outputId": "de7091de-4655-439e-b3b5-425777bb893c"
      },
      "outputs": [],
      "source": [
        "# calculando os coeficientes de correlação entre pesos e alturas\n",
        "np.corrcoef(np_a_p[:, 0], np_a_p[:, 1])"
      ]
    },
    {
      "cell_type": "markdown",
      "metadata": {
        "id": "EBU9Ci4u2yXL"
      },
      "source": [
        "Não se assuste se você não sabe o que é o coeficiente de correlação. Ele basicamente mede a força da relação entre duas variáveis. Se você quiser saber mais sobre ele, pode acessar [este link](https://pt.wikipedia.org/wiki/Coeficiente_de_correlação_de_Pearson).<br>\n",
        "<br>\n",
        "Essa métrica é muito útil na hora da criaçãod e modelos de machine learning, pois ela nos ajuda a entender a relação entre as variáveis."
      ]
    },
    {
      "cell_type": "code",
      "execution_count": null,
      "metadata": {
        "id": "Dd8HC0onI7Vg",
        "outputId": "c57f7d70-c6af-46a9-9fd4-b1ff01fbacbf"
      },
      "outputs": [],
      "source": [
        "# calculando o desvio padrão dos pesos\n",
        "np.std(np_a_p[:, 1])"
      ]
    },
    {
      "cell_type": "code",
      "execution_count": null,
      "metadata": {
        "id": "b2taaZh6I7Vh",
        "outputId": "d312e85d-d4e1-475c-acfb-94e141358859"
      },
      "outputs": [],
      "source": [
        "# calculando a soma dos pesos\n",
        "np.sum(np_a_p[:, 1])"
      ]
    },
    {
      "cell_type": "markdown",
      "metadata": {
        "id": "bZ8AdLcw2yXL"
      },
      "source": [
        "<a name=\"ex3\"></a>\n",
        "## Exercício 1.3\n",
        "\n",
        "Atribua à variável ```resposta_1_3``` o desvio padrão das médias das <b>linhas</b> do seguinte array bi-dimensional."
      ]
    },
    {
      "cell_type": "code",
      "execution_count": null,
      "metadata": {
        "id": "VS1fnp0K2yXL"
      },
      "outputs": [],
      "source": [
        "array = np.array([\n",
        "    [1,2,3,4,5],\n",
        "    [6,7,8,9,10],\n",
        "    [11,12,13,14,15]\n",
        "     ])\n",
        "\n",
        "# Atribua à variável resposta_1_5 o desvio padrão da média das linhas de array\n",
        "resposta_1_3 = ____"
      ]
    },
    {
      "cell_type": "markdown",
      "metadata": {
        "id": "DzNkxEpAI7Vj"
      },
      "source": [
        "Alguns desses atributos já estão disponíveis no Python, no entanto, a principal diferença entre eles é a performance. Os atributos do NumPy são mais rápidos na execução do que os básicos do Python."
      ]
    },
    {
      "cell_type": "markdown",
      "metadata": {
        "id": "8UwSfRIA2yXL"
      },
      "source": [
        "<a name='correcao'></a>\n",
        "## Correção de Exercícios"
      ]
    },
    {
      "cell_type": "code",
      "execution_count": null,
      "metadata": {
        "id": "BESScvPO2yXL",
        "outputId": "43500631-2e36-4289-b315-1fc1e3bd4668"
      },
      "outputs": [],
      "source": [
        "!cp /content/teste.py /content\n",
        "\n",
        "from teste import teste\n",
        "test = teste()\n",
        "test.testa(nb=0, lista=[resposta_1_1,resposta_1_2, resposta_1_3])"
      ]
    }
  ],
  "metadata": {
    "colab": {
      "provenance": [],
      "toc_visible": true
    },
    "kernelspec": {
      "display_name": "Python 3 (ipykernel)",
      "language": "python",
      "name": "python3"
    },
    "language_info": {
      "codemirror_mode": {
        "name": "ipython",
        "version": 3
      },
      "file_extension": ".py",
      "mimetype": "text/x-python",
      "name": "python",
      "nbconvert_exporter": "python",
      "pygments_lexer": "ipython3",
      "version": "3.9.13"
    }
  },
  "nbformat": 4,
  "nbformat_minor": 0
}
